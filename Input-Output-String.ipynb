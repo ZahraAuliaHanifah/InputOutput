{
 "cells": [
  {
   "cell_type": "markdown",
   "id": "029042f7-d496-4f03-bd28-53e62cb28532",
   "metadata": {},
   "source": [
    "<h1>Tugas 5 Input-Output-String</h1<hr>"
   ]
  },
  {
   "cell_type": "code",
   "execution_count": 16,
   "id": "0d01a515-ac56-4aaa-bd61-a9105bed195a",
   "metadata": {},
   "outputs": [
    {
     "name": "stdin",
     "output_type": "stream",
     "text": [
      "Masukkan Nama :  Zahra\n",
      "Masukkan NIM :  20230040253\n",
      "Masukkan TTL :  Sukabumi/17/September/2003\n",
      "Kuliah Dimana :  Universitas Nusa Putra\n",
      "Jurusan apa :  Teknik Informatika\n",
      "Hobinya apa :  Bermain musik\n"
     ]
    },
    {
     "name": "stdout",
     "output_type": "stream",
     "text": [
      "Nama : Zahra\n",
      "NIM : 20230040253\n",
      "Tempat Lahir : Sukabumi\n",
      "Tanggal : 17\n",
      "Bulan : September\n",
      "Tahun : 2003\n",
      "Nama kampus : Universitas Nusa Putra\n",
      "Jurusan : Teknik Informatika\n",
      "Hobi : Bermain musik\n"
     ]
    }
   ],
   "source": [
    "name = input('Masukkan Nama : ')\n",
    "NIM = int(input('Masukkan NIM : '))\n",
    "ttl = input('Masukkan TTL : ')\n",
    "kuliah = input('Kuliah Dimana : ')\n",
    "jurusan = input('Jurusan apa : ')\n",
    "hobby = input('Hobinya apa : ')\n",
    "\n",
    "lahir = ttl.split('/')\n",
    "\n",
    "print(f\"Nama : {name}\")\n",
    "print(f\"NIM : {NIM}\")\n",
    "print(f\"Tempat Lahir : {lahir[0]}\")\n",
    "print(f\"Tanggal : {lahir[1]}\")\n",
    "print(f\"Bulan : {lahir[2]}\")\n",
    "print(f\"Tahun : {lahir[3]}\")\n",
    "print(f\"Nama kampus : {kuliah}\")\n",
    "print(f\"Jurusan : {jurusan}\")\n",
    "print(f\"Hobi : {hobby}\")"
   ]
  },
  {
   "cell_type": "code",
   "execution_count": 43,
   "id": "b51a3765-6aa9-41a7-afe0-26e8a7a07633",
   "metadata": {},
   "outputs": [
    {
     "name": "stdout",
     "output_type": "stream",
     "text": [
      "putra nusa\n",
      "NIVERSITAS NSA PTRA SKABMI\n",
      "SUKABUMI PUTRA NUSA UNIVERSITAS\n",
      "UNPS\n",
      "TAS SA PU BUMI\n"
     ]
    }
   ],
   "source": [
    "kampus = \"UNIVERSITAS NUSA PUTRA SUKABUMI\"\n",
    "inisial = kampus.split()\n",
    "\n",
    "W = kampus[17:-9]+ \" \" +kampus[12:-15]\n",
    "print(W.lower())     \n",
    "X = kampus[1:13]+ kampus[14:18]+ kampus[19:24]+ kampus[-6:-3]+ kampus[-2:]\n",
    "print(X.upper())    \n",
    "Y = kampus[-8:]+\" \" +kampus[17:-9]+\" \" +kampus[12:-15]+\" \" +kampus[:11]\n",
    "print(Y.upper())\n",
    "print(f\"{inisial[0][0]}{inisial[1][0]}{inisial[2][0]}{inisial[3][0]}\")\n",
    "Z = kampus[8:11]+\" \" +kampus[14:16]+\" \" +kampus[-4:]\n",
    "print(Z.upper())"
   ]
  }
 ],
 "metadata": {
  "kernelspec": {
   "display_name": "Python 3 (ipykernel)",
   "language": "python",
   "name": "python3"
  },
  "language_info": {
   "codemirror_mode": {
    "name": "ipython",
    "version": 3
   },
   "file_extension": ".py",
   "mimetype": "text/x-python",
   "name": "python",
   "nbconvert_exporter": "python",
   "pygments_lexer": "ipython3",
   "version": "3.11.7"
  }
 },
 "nbformat": 4,
 "nbformat_minor": 5
}
